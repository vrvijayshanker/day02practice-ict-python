{
  "nbformat": 4,
  "nbformat_minor": 0,
  "metadata": {
    "colab": {
      "provenance": [],
      "include_colab_link": true
    },
    "kernelspec": {
      "name": "python3",
      "display_name": "Python 3"
    },
    "language_info": {
      "name": "python"
    }
  },
  "cells": [
    {
      "cell_type": "markdown",
      "metadata": {
        "id": "view-in-github",
        "colab_type": "text"
      },
      "source": [
        "<a href=\"https://colab.research.google.com/github/vrvijayshanker/day02practice-ict-python/blob/main/ICT_Python_Day02_PracticeQuestions.ipynb\" target=\"_parent\"><img src=\"https://colab.research.google.com/assets/colab-badge.svg\" alt=\"Open In Colab\"/></a>"
      ]
    },
    {
      "cell_type": "markdown",
      "source": [
        "Q. Write a program to find sum of all elements in a list of integers.\n"
      ],
      "metadata": {
        "id": "a7ggBewmFmnY"
      }
    },
    {
      "cell_type": "code",
      "source": [
        "lista = [1, 5, 12, 34, 56, 78, 90, 23, 67, 45]\n",
        "print('The list is', lista)\n",
        "print('Sum of the elements:', sum(lista))"
      ],
      "metadata": {
        "colab": {
          "base_uri": "https://localhost:8080/"
        },
        "id": "6csaDSgxF55X",
        "outputId": "95193efd-8295-4b07-ccbf-eaff2ad5d7f0"
      },
      "execution_count": null,
      "outputs": [
        {
          "output_type": "stream",
          "name": "stdout",
          "text": [
            "The list is [1, 5, 12, 34, 56, 78, 90, 23, 67, 45]\n",
            "Sum of the elements: 411\n"
          ]
        }
      ]
    },
    {
      "cell_type": "markdown",
      "source": [
        "Q. Input a sentence as a string.\n",
        "\n",
        "a) Print its length\n",
        "\n",
        "b) Print the first half of string\n"
      ],
      "metadata": {
        "id": "BHvHb_rqFtsH"
      }
    },
    {
      "cell_type": "code",
      "source": [
        "sent1 = input('Enter a sentence: ')\n",
        "print('a) Length of the sentence:', len(sent1))\n",
        "print('b) First half of the sentence:', sent1[:int(len(sent1)/2)])"
      ],
      "metadata": {
        "colab": {
          "base_uri": "https://localhost:8080/"
        },
        "id": "xbWcamUNF0kq",
        "outputId": "da8069ce-a2a2-4cb2-dd6b-25492762abb3"
      },
      "execution_count": null,
      "outputs": [
        {
          "output_type": "stream",
          "name": "stdout",
          "text": [
            "Enter a sentence: World of python\n",
            "a) Length of the sentence: 15\n",
            "b) First half of the sentence: World o\n"
          ]
        }
      ]
    },
    {
      "cell_type": "markdown",
      "source": [
        "Q. Write a program to enter a tuple of integers as\n",
        "(78,45,32,19,82,77,40,39). Change the third value in the tuple to\n",
        "100\n"
      ],
      "metadata": {
        "id": "jKn8rlZuFx7w"
      }
    },
    {
      "cell_type": "code",
      "source": [
        "numbers_tuple = (78,45,32,19,82,77,40,39)\n",
        "print(numbers_tuple)\n",
        "temp_list = list(numbers_tuple)\n",
        "temp_list[2] = 100\n",
        "new_tuple = tuple(temp_list)\n",
        "print(new_tuple)"
      ],
      "metadata": {
        "colab": {
          "base_uri": "https://localhost:8080/"
        },
        "id": "b-NY4r5hF6lQ",
        "outputId": "11155b61-91ff-46a2-eb1c-2c6f81c16490"
      },
      "execution_count": null,
      "outputs": [
        {
          "output_type": "stream",
          "name": "stdout",
          "text": [
            "(78, 45, 32, 19, 82, 77, 40, 39)\n",
            "(78, 45, 100, 19, 82, 77, 40, 39)\n"
          ]
        }
      ]
    },
    {
      "cell_type": "markdown",
      "source": [
        "Q. Consider a list listA=[19,32,10,55,31,32,94,29,10,65,77,40,40]\n",
        "\n",
        "(a) Delete the first occurrence of 32\n",
        "\n",
        "(b) Delete all occurrences of 40\n",
        "\n",
        "(c) Delete the value at index=5\n",
        "\n",
        "(d) Modify the value at index=9 as 300\n",
        "\n",
        "(e) Add 200 at index=2\n",
        "\n",
        "(f) Print the final list with its length, maximum value\n",
        "and sum of all elements\n"
      ],
      "metadata": {
        "id": "LaaS3uvpF1ZH"
      }
    },
    {
      "cell_type": "code",
      "source": [
        "listA=[19,32,10,55,31,32,94,29,10,65,77,40,40]\n",
        "\n",
        "\n",
        "listA[9] = 300 # d) modify value at index 9\n",
        "print(listA)\n",
        "\n",
        "listA.remove(32) # a) removes the first occurence of 32\n",
        "print(listA)\n",
        "\n",
        "while 40 in listA:\n",
        "  listA.remove(40) # b) Removes all the occurrences of 40\n",
        "\n",
        "print(listA)\n",
        "\n",
        "listA.pop(5) # c) removes value at index 5\n",
        "print(listA)\n",
        "\n",
        "listA[2] = listA[2]+200 # e) add 200 to the value at index 2\n",
        "\n",
        "# f)\n",
        "print('\\nFinal list: ', listA)\n",
        "print('No. of elements: ', len(listA))\n",
        "print('Largest among them: ', max(listA))\n",
        "print('Sum of all: ', sum(listA))\n",
        "\n"
      ],
      "metadata": {
        "colab": {
          "base_uri": "https://localhost:8080/"
        },
        "id": "39kUKAVYF7tH",
        "outputId": "ac2cd39c-1268-4551-e2fc-23654e7bf8ad"
      },
      "execution_count": null,
      "outputs": [
        {
          "output_type": "stream",
          "name": "stdout",
          "text": [
            "[19, 32, 10, 55, 31, 32, 94, 29, 10, 300, 77, 40, 40]\n",
            "[19, 10, 55, 31, 32, 94, 29, 10, 300, 77, 40, 40]\n",
            "[19, 10, 55, 31, 32, 94, 29, 10, 300, 77]\n",
            "[19, 10, 55, 31, 32, 29, 10, 300, 77]\n",
            "\n",
            "Final list:  [19, 10, 255, 31, 32, 29, 10, 300, 77]\n",
            "No. of elements:  9\n",
            "Largest among them:  300\n",
            "Sum of all:  763\n"
          ]
        }
      ]
    },
    {
      "cell_type": "markdown",
      "source": [
        "Q. Consider a string ”The day has been long”.\n",
        "\n",
        "(a) Delete the value at index =4\n",
        "\n",
        "(b) Print the string 4 times in a single line with space\n",
        "between each repetition\n",
        "\n",
        "(c) Print the string 3 times in a new line each time\n",
        "\n",
        "(d) Modify the string at index 7 as ’A’\n",
        "\n",
        "(e) Print the string from index 4 to 15\n",
        "\n",
        "(f) Print the final string with its length"
      ],
      "metadata": {
        "id": "GaHqak7SF3cQ"
      }
    },
    {
      "cell_type": "code",
      "source": [
        "str1 = \"The day has been long\"\n",
        "\n",
        "#b\n",
        "print((str1+\" \")*4, end=\"\\n\\n\")\n",
        "\n",
        "#c\n",
        "print((str1+\"\\n\")*4)\n",
        "\n",
        "\n",
        "# a) to not consider the character at index 4\n",
        "str2=\"\"\n",
        "for i in range (len(str1)):\n",
        "  if i!= 4:\n",
        "    str2 += str1[i]\n",
        "print(str2)\n",
        "\n",
        "#d\n",
        "str3 = \"\"\n",
        "for i in range(len(str2)):\n",
        "  if i!=7:\n",
        "    str3 += str2[i]\n",
        "  else:\n",
        "    str3 += 'A'\n",
        "print(str3)\n",
        "\n",
        "#e\n",
        "print(str1[4:16]) #original string is sliced\n",
        "\n",
        "#f\n",
        "print('\\nFinal string is \\\"'+str3+'\\\" It is '+str(len(str3))+' characters long!')"
      ],
      "metadata": {
        "colab": {
          "base_uri": "https://localhost:8080/"
        },
        "id": "eM-KYP-ASjnZ",
        "outputId": "9facf7f2-d33b-4998-db67-ef3d9a27af2c"
      },
      "execution_count": null,
      "outputs": [
        {
          "output_type": "stream",
          "name": "stdout",
          "text": [
            "The day has been long The day has been long The day has been long The day has been long \n",
            "\n",
            "The day has been long\n",
            "The day has been long\n",
            "The day has been long\n",
            "The day has been long\n",
            "\n",
            "The ay has been long\n",
            "The ay Aas been long\n",
            "day has been\n",
            "\n",
            "Final string is \"The ay Aas been long\" It is 20 characters long!\n"
          ]
        }
      ]
    }
  ]
}